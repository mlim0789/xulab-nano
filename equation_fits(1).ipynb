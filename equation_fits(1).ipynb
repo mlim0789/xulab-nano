{
 "cells": [
  {
   "cell_type": "markdown",
   "metadata": {
    "deletable": true,
    "editable": true
   },
   "source": [
    "# Finding $P_{eff}$ by least squares fitting:"
   ]
  },
  {
   "cell_type": "code",
   "execution_count": 98,
   "metadata": {
    "collapsed": false,
    "deletable": true,
    "editable": true
   },
   "outputs": [
    {
     "name": "stdout",
     "output_type": "stream",
     "text": [
      "The best fit is P_eff = 0.83\n",
      "R^2 is = 0.9593\n"
     ]
    },
    {
     "data": {
      "image/png": "[encoded data removed]",
      "text/plain": [
       "<matplotlib.figure.Figure at 0x7a5cec5198>"
      ]
     },
     "metadata": {},
     "output_type": "display_data"
    }
   ],
   "source": [
    "import numpy as np\n",
    "import matplotlib.pyplot as plt\n",
    "%matplotlib inline\n",
    "\n",
    "#ENTRY VALUES:\n",
    "x = np.array([0,3.5,7,21])                         #time-points\n",
    "y = np.array([0,0.00931392,0.01608768,0.0254016])  #concentration in tumor\n",
    "Kd = 24.57                                         #plasma elimination time constant\n",
    "Co = 0.26                                          #initial plasma concentration (ug/uL)\n",
    "    \n",
    "def tumor_conc (a,b):   #function to calculate nanoparticle ceoncentration in tumor\n",
    "    Sv = 0.01 #vessel density 1/100um\n",
    "    A = (Co*a*Sv*Kd)/(1-a*Sv*Kd)\n",
    "    Ct = A*(np.exp(-a*Sv*b)-np.exp(-b/Kd))\n",
    "    return Ct\n",
    "\n",
    "def Rsquared(q):    #function for coefficient of determination R^2\n",
    "    ysum = fsum = fysum = y2sum = f2sum = 0\n",
    "    for i in range (0,q):\n",
    "        ysum += y[i]\n",
    "        fsum += tumor_conc(P,x[i])\n",
    "        fysum += y[i]*tumor_conc(P,x[i])\n",
    "        y2sum += (y[i])**2\n",
    "        f2sum += (tumor_conc(P,x[i]))**2  \n",
    "    numer = q*fysum-ysum*fsum\n",
    "    denom = np.sqrt((q*y2sum-(ysum)**2)*(q*f2sum-(fsum)**2))\n",
    "    R2 = (numer/denom)**2\n",
    "    return R2\n",
    "\n",
    "val = 1 #for comparing sum of R2 in 'if statement' below\n",
    "\n",
    "for i in range (0,200): #loop for trying various values of P_eff\n",
    "    P = i/100\n",
    "    count = 0\n",
    "    for j in range(0,4):    #loop for calculating tumor conc at the 4 time-points, and finding sum of squares\n",
    "        ft = tumor_conc(P,x[j])\n",
    "        square = (y[j]-ft)**2 #residuals squared\n",
    "        count += square       #sums squares over the 4 time points\n",
    "    #print(P,count)\n",
    "  \n",
    "    #Finds P with the least squares\n",
    "    if val > count:      #if the current sum of squares is smaller than previous attempt, keep going\n",
    "        val = count\n",
    "    else:       \n",
    "        P -= (1/100)     #the last P is the best value\n",
    "        print('The best fit is P_eff =',P)\n",
    "        print('R^2 is = {:.4}'.format(Rsquared(len(x))))\n",
    "      \n",
    "    #make a plot with this P\n",
    "        t = np.linspace(0,30,100)\n",
    "        ft = tumor_conc(P,t)\n",
    "        plt.plot(t,ft)\n",
    "        plt.plot(x,y,'ro')\n",
    "        plt.xlabel('Time (hr)')\n",
    "        plt.ylabel('Concentration (ug/uL)')\n",
    "        plt.legend(['Theoretical','Empirical'],loc='best')\n",
    "      \n",
    "    #stop loop from trying any other P values\n",
    "        break\n",
    "    "
   ]
  },
  {
   "cell_type": "markdown",
   "metadata": {
    "deletable": true,
    "editable": true
   },
   "source": [
    "# Getting $K_d$ value from half-life ($t_{1/2}$):"
   ]
  },
  {
   "cell_type": "code",
   "execution_count": 7,
   "metadata": {
    "collapsed": false,
    "deletable": true,
    "editable": true
   },
   "outputs": [
    {
     "name": "stdout",
     "output_type": "stream",
     "text": [
      "Enter half life (hours): 27\n",
      "Kd value =  38.953\n"
     ]
    }
   ],
   "source": [
    "import numpy as np\n",
    "\n",
    "traw = input('Enter half life (hours): ')\n",
    "thalf = eval(traw)\n",
    "kd = 1/(-np.log(0.5)/thalf)\n",
    "print ('Kd value =  {:.3f}'.format(kd))"
   ]
  },
  {
   "cell_type": "markdown",
   "metadata": {
    "deletable": true,
    "editable": true
   },
   "source": [
    "## Additional Information \n",
    "Built-in fitting and statistics functions available from Github:\n",
    "https://lmfit.github.io/lmfit-py/model.html"
   ]
  },
  {
   "cell_type": "code",
   "execution_count": null,
   "metadata": {
    "collapsed": true,
    "deletable": true,
    "editable": true
   },
   "outputs": [],
   "source": [
    "import matplotlib.pyplot as plt\n",
    "from numpy import exp, loadtxt, pi, sqrt\n",
    "\n",
    "from lmfit import Model\n",
    "\n",
    "data = loadtxt('model1d_gauss.dat')\n",
    "x = data[:, 0]\n",
    "y = data[:, 1]\n",
    "\n",
    "\n",
    "def gaussian(x, amp, cen, wid):\n",
    "    \"\"\"1-d gaussian: gaussian(x, amp, cen, wid)\"\"\"\n",
    "    return (amp / (sqrt(2*pi) * wid)) * exp(-(x-cen)**2 / (2*wid**2))\n",
    "\n",
    "\n",
    "gmodel = Model(gaussian)\n",
    "result = gmodel.fit(y, x=x, amp=5, cen=5, wid=1)\n",
    "\n",
    "print(result.fit_report())\n",
    "\n",
    "plt.plot(x, y, 'bo')\n",
    "plt.plot(x, result.init_fit, 'k--')\n",
    "plt.plot(x, result.best_fit, 'r-')\n",
    "plt.show()\n",
    "# <end examples/doc_model_gaussian.py>"
   ]
  }
 ],
 "metadata": {
  "kernelspec": {
   "display_name": "Python 3",
   "language": "python",
   "name": "python3"
  },
  "language_info": {
   "codemirror_mode": {
    "name": "ipython",
    "version": 3
   },
   "file_extension": ".py",
   "mimetype": "text/x-python",
   "name": "python",
   "nbconvert_exporter": "python",
   "pygments_lexer": "ipython3",
   "version": "3.5.2"
  }
 },
 "nbformat": 4,
 "nbformat_minor": 2
}
